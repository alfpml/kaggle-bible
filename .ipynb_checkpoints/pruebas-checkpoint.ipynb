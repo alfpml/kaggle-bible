{
 "cells": [
  {
   "cell_type": "code",
   "execution_count": 23,
   "metadata": {},
   "outputs": [],
   "source": [
    "#importing libraries\n",
    "import pandas as pd\n",
    "from sklearn import datasets, svm, metrics\n",
    "from sklearn.preprocessing import Normalizer\n",
    "from sklearn.preprocessing import StandardScaler\n",
    "from sklearn.decomposition import PCA\n",
    "from sklearn.pipeline import make_pipeline\n",
    "from sklearn.model_selection import train_test_split"
   ]
  },
  {
   "cell_type": "code",
   "execution_count": 24,
   "metadata": {},
   "outputs": [
    {
     "data": {
      "text/html": [
       "<div>\n",
       "<style scoped>\n",
       "    .dataframe tbody tr th:only-of-type {\n",
       "        vertical-align: middle;\n",
       "    }\n",
       "\n",
       "    .dataframe tbody tr th {\n",
       "        vertical-align: top;\n",
       "    }\n",
       "\n",
       "    .dataframe thead th {\n",
       "        text-align: right;\n",
       "    }\n",
       "</style>\n",
       "<table border=\"1\" class=\"dataframe\">\n",
       "  <thead>\n",
       "    <tr style=\"text-align: right;\">\n",
       "      <th></th>\n",
       "      <th>id</th>\n",
       "      <th>F1</th>\n",
       "      <th>F2</th>\n",
       "      <th>F3</th>\n",
       "      <th>F4</th>\n",
       "      <th>F5</th>\n",
       "      <th>F6</th>\n",
       "      <th>F7</th>\n",
       "      <th>F8</th>\n",
       "      <th>F9</th>\n",
       "      <th>F10</th>\n",
       "      <th>scribe</th>\n",
       "    </tr>\n",
       "  </thead>\n",
       "  <tbody>\n",
       "    <tr>\n",
       "      <th>0</th>\n",
       "      <td>0</td>\n",
       "      <td>-0.091897</td>\n",
       "      <td>0.297600</td>\n",
       "      <td>0.079145</td>\n",
       "      <td>0.196496</td>\n",
       "      <td>0.261718</td>\n",
       "      <td>1.269960</td>\n",
       "      <td>0.446679</td>\n",
       "      <td>-0.751707</td>\n",
       "      <td>0.001721</td>\n",
       "      <td>0.998901</td>\n",
       "      <td>Philippus</td>\n",
       "    </tr>\n",
       "    <tr>\n",
       "      <th>1</th>\n",
       "      <td>1</td>\n",
       "      <td>-0.091897</td>\n",
       "      <td>0.226939</td>\n",
       "      <td>0.267634</td>\n",
       "      <td>0.024091</td>\n",
       "      <td>0.261718</td>\n",
       "      <td>-0.806282</td>\n",
       "      <td>0.597681</td>\n",
       "      <td>-0.601277</td>\n",
       "      <td>0.126447</td>\n",
       "      <td>-0.909619</td>\n",
       "      <td>Paithonius</td>\n",
       "    </tr>\n",
       "    <tr>\n",
       "      <th>2</th>\n",
       "      <td>2</td>\n",
       "      <td>0.167323</td>\n",
       "      <td>0.313302</td>\n",
       "      <td>0.168055</td>\n",
       "      <td>-0.383198</td>\n",
       "      <td>0.261718</td>\n",
       "      <td>0.190314</td>\n",
       "      <td>0.824183</td>\n",
       "      <td>0.558250</td>\n",
       "      <td>-0.247731</td>\n",
       "      <td>-0.148073</td>\n",
       "      <td>Marcus</td>\n",
       "    </tr>\n",
       "    <tr>\n",
       "      <th>3</th>\n",
       "      <td>3</td>\n",
       "      <td>-0.017834</td>\n",
       "      <td>-0.228430</td>\n",
       "      <td>0.370770</td>\n",
       "      <td>1.293671</td>\n",
       "      <td>0.172340</td>\n",
       "      <td>0.896237</td>\n",
       "      <td>0.182426</td>\n",
       "      <td>0.416867</td>\n",
       "      <td>1.373706</td>\n",
       "      <td>0.868284</td>\n",
       "      <td>Noaelius</td>\n",
       "    </tr>\n",
       "    <tr>\n",
       "      <th>4</th>\n",
       "      <td>4</td>\n",
       "      <td>0.043885</td>\n",
       "      <td>0.407516</td>\n",
       "      <td>-0.120014</td>\n",
       "      <td>0.281743</td>\n",
       "      <td>0.261718</td>\n",
       "      <td>-0.183409</td>\n",
       "      <td>0.106925</td>\n",
       "      <td>0.142896</td>\n",
       "      <td>0.531806</td>\n",
       "      <td>-0.101311</td>\n",
       "      <td>Marcus</td>\n",
       "    </tr>\n",
       "  </tbody>\n",
       "</table>\n",
       "</div>"
      ],
      "text/plain": [
       "   id        F1        F2        F3        F4        F5        F6        F7  \\\n",
       "0   0 -0.091897  0.297600  0.079145  0.196496  0.261718  1.269960  0.446679   \n",
       "1   1 -0.091897  0.226939  0.267634  0.024091  0.261718 -0.806282  0.597681   \n",
       "2   2  0.167323  0.313302  0.168055 -0.383198  0.261718  0.190314  0.824183   \n",
       "3   3 -0.017834 -0.228430  0.370770  1.293671  0.172340  0.896237  0.182426   \n",
       "4   4  0.043885  0.407516 -0.120014  0.281743  0.261718 -0.183409  0.106925   \n",
       "\n",
       "         F8        F9       F10      scribe  \n",
       "0 -0.751707  0.001721  0.998901   Philippus  \n",
       "1 -0.601277  0.126447 -0.909619  Paithonius  \n",
       "2  0.558250 -0.247731 -0.148073      Marcus  \n",
       "3  0.416867  1.373706  0.868284    Noaelius  \n",
       "4  0.142896  0.531806 -0.101311      Marcus  "
      ]
     },
     "metadata": {},
     "output_type": "display_data"
    },
    {
     "data": {
      "text/plain": [
       "id          int64\n",
       "F1        float64\n",
       "F2        float64\n",
       "F3        float64\n",
       "F4        float64\n",
       "F5        float64\n",
       "F6        float64\n",
       "F7        float64\n",
       "F8        float64\n",
       "F9        float64\n",
       "F10       float64\n",
       "scribe     object\n",
       "dtype: object"
      ]
     },
     "metadata": {},
     "output_type": "display_data"
    }
   ],
   "source": [
    "avila =  pd.read_csv('./input/training_dataset.csv')\n",
    "display(avila.head())\n",
    "display(avila.dtypes)"
   ]
  },
  {
   "cell_type": "code",
   "execution_count": 25,
   "metadata": {},
   "outputs": [],
   "source": [
    "X = avila[[\"F1\",\"F2\",\"F3\",\"F4\",\"F5\",\"F6\",\"F7\",\"F8\",\"F9\",\"F10\"]]\n",
    "y = avila.scribe"
   ]
  },
  {
   "cell_type": "code",
   "execution_count": 26,
   "metadata": {},
   "outputs": [],
   "source": [
    "X_train, X_test, y_train, y_test = train_test_split(X,y, test_size=0.2)"
   ]
  },
  {
   "cell_type": "code",
   "execution_count": 27,
   "metadata": {},
   "outputs": [
    {
     "name": "stdout",
     "output_type": "stream",
     "text": [
      "Training model: svm\n"
     ]
    },
    {
     "name": "stderr",
     "output_type": "stream",
     "text": [
      "/home/alfonso/.local/lib/python3.6/site-packages/sklearn/svm/_base.py:947: ConvergenceWarning: Liblinear failed to converge, increase the number of iterations.\n",
      "  \"the number of iterations.\", ConvergenceWarning)\n"
     ]
    },
    {
     "name": "stdout",
     "output_type": "stream",
     "text": [
      "Training model: logistic\n",
      "Training model: forest\n"
     ]
    }
   ],
   "source": [
    "from sklearn.svm import LinearSVC\n",
    "from sklearn.linear_model import LogisticRegression\n",
    "from sklearn.ensemble import RandomForestClassifier\n",
    "\n",
    "models = {\n",
    "    \"svm\": LinearSVC(),\n",
    "    \"logistic\": LogisticRegression(solver='lbfgs', max_iter=2000),\n",
    "    \"forest\": RandomForestClassifier()\n",
    "}\n",
    "\n",
    "for modelName, model in models.items():\n",
    "    print(f\"Training model: {modelName}\")\n",
    "    model.fit(X_train, y_train)"
   ]
  },
  {
   "cell_type": "code",
   "execution_count": 29,
   "metadata": {},
   "outputs": [
    {
     "data": {
      "text/html": [
       "<div>\n",
       "<style scoped>\n",
       "    .dataframe tbody tr th:only-of-type {\n",
       "        vertical-align: middle;\n",
       "    }\n",
       "\n",
       "    .dataframe tbody tr th {\n",
       "        vertical-align: top;\n",
       "    }\n",
       "\n",
       "    .dataframe thead th {\n",
       "        text-align: right;\n",
       "    }\n",
       "</style>\n",
       "<table border=\"1\" class=\"dataframe\">\n",
       "  <thead>\n",
       "    <tr style=\"text-align: right;\">\n",
       "      <th></th>\n",
       "      <th>svm</th>\n",
       "      <th>logistic</th>\n",
       "      <th>forest</th>\n",
       "      <th>gt</th>\n",
       "    </tr>\n",
       "  </thead>\n",
       "  <tbody>\n",
       "    <tr>\n",
       "      <th>0</th>\n",
       "      <td>Marcus</td>\n",
       "      <td>Marcus</td>\n",
       "      <td>Philippus</td>\n",
       "      <td>Philippus</td>\n",
       "    </tr>\n",
       "    <tr>\n",
       "      <th>1</th>\n",
       "      <td>Marcus</td>\n",
       "      <td>Marcus</td>\n",
       "      <td>Marcus</td>\n",
       "      <td>Marcus</td>\n",
       "    </tr>\n",
       "    <tr>\n",
       "      <th>2</th>\n",
       "      <td>Marcus</td>\n",
       "      <td>Marcus</td>\n",
       "      <td>Ubuntius</td>\n",
       "      <td>Ubuntius</td>\n",
       "    </tr>\n",
       "    <tr>\n",
       "      <th>3</th>\n",
       "      <td>Marcus</td>\n",
       "      <td>Marcus</td>\n",
       "      <td>Philippus</td>\n",
       "      <td>Philippus</td>\n",
       "    </tr>\n",
       "    <tr>\n",
       "      <th>4</th>\n",
       "      <td>Marcus</td>\n",
       "      <td>Franciscus</td>\n",
       "      <td>Franciscus</td>\n",
       "      <td>Franciscus</td>\n",
       "    </tr>\n",
       "    <tr>\n",
       "      <th>...</th>\n",
       "      <td>...</td>\n",
       "      <td>...</td>\n",
       "      <td>...</td>\n",
       "      <td>...</td>\n",
       "    </tr>\n",
       "    <tr>\n",
       "      <th>2399</th>\n",
       "      <td>Marcus</td>\n",
       "      <td>Marcus</td>\n",
       "      <td>FerrumEffractarius</td>\n",
       "      <td>FerrumEffractarius</td>\n",
       "    </tr>\n",
       "    <tr>\n",
       "      <th>2400</th>\n",
       "      <td>Marcus</td>\n",
       "      <td>Marcus</td>\n",
       "      <td>Marcus</td>\n",
       "      <td>Marcus</td>\n",
       "    </tr>\n",
       "    <tr>\n",
       "      <th>2401</th>\n",
       "      <td>Marcus</td>\n",
       "      <td>Marcus</td>\n",
       "      <td>Philippus</td>\n",
       "      <td>Philippus</td>\n",
       "    </tr>\n",
       "    <tr>\n",
       "      <th>2402</th>\n",
       "      <td>Marcus</td>\n",
       "      <td>Marcus</td>\n",
       "      <td>Paithonius</td>\n",
       "      <td>Paithonius</td>\n",
       "    </tr>\n",
       "    <tr>\n",
       "      <th>2403</th>\n",
       "      <td>Marcus</td>\n",
       "      <td>Marcus</td>\n",
       "      <td>Philippus</td>\n",
       "      <td>Philippus</td>\n",
       "    </tr>\n",
       "  </tbody>\n",
       "</table>\n",
       "<p>2404 rows × 4 columns</p>\n",
       "</div>"
      ],
      "text/plain": [
       "         svm    logistic              forest                  gt\n",
       "0     Marcus      Marcus           Philippus           Philippus\n",
       "1     Marcus      Marcus              Marcus              Marcus\n",
       "2     Marcus      Marcus            Ubuntius            Ubuntius\n",
       "3     Marcus      Marcus           Philippus           Philippus\n",
       "4     Marcus  Franciscus          Franciscus          Franciscus\n",
       "...      ...         ...                 ...                 ...\n",
       "2399  Marcus      Marcus  FerrumEffractarius  FerrumEffractarius\n",
       "2400  Marcus      Marcus              Marcus              Marcus\n",
       "2401  Marcus      Marcus           Philippus           Philippus\n",
       "2402  Marcus      Marcus          Paithonius          Paithonius\n",
       "2403  Marcus      Marcus           Philippus           Philippus\n",
       "\n",
       "[2404 rows x 4 columns]"
      ]
     },
     "execution_count": 29,
     "metadata": {},
     "output_type": "execute_result"
    }
   ],
   "source": [
    "d = {modelName:model.predict(X_test) for modelName, model in models.items()}\n",
    "df = pd.DataFrame(d)\n",
    "y_test.reset_index(inplace=True, drop=True)\n",
    "df[\"gt\"] = y_test\n",
    "df"
   ]
  },
  {
   "cell_type": "code",
   "execution_count": 30,
   "metadata": {},
   "outputs": [
    {
     "name": "stdout",
     "output_type": "stream",
     "text": [
      "Evaluating model [svm]:\n",
      "Accuracy 0.538269550748752\n",
      "Precision 0.42826357368790835\n",
      "Recall 0.538269550748752\n",
      "Evaluating model [logistic]:\n",
      "Accuracy 0.5723793677204659\n",
      "Precision 0.5162134747911222\n",
      "Recall 0.5723793677204659\n",
      "Evaluating model [forest]:\n",
      "Accuracy 0.987936772046589\n",
      "Precision 0.987984551632191\n",
      "Recall 0.987936772046589\n"
     ]
    },
    {
     "name": "stderr",
     "output_type": "stream",
     "text": [
      "/home/alfonso/.local/lib/python3.6/site-packages/sklearn/metrics/_classification.py:1268: UndefinedMetricWarning: Precision is ill-defined and being set to 0.0 in labels with no predicted samples. Use `zero_division` parameter to control this behavior.\n",
      "  _warn_prf(average, modifier, msg_start, len(result))\n"
     ]
    }
   ],
   "source": [
    "from sklearn.metrics import accuracy_score\n",
    "from sklearn.metrics import precision_score\n",
    "from sklearn.metrics import recall_score\n",
    "from IPython.core.display import display, HTML\n",
    "\n",
    "for modelName, model in models.items():    \n",
    "    print(f\"Evaluating model [{modelName}]:\")\n",
    "    print(\"Accuracy\", accuracy_score(df[\"gt\"],df[modelName]))\n",
    "    print(\"Precision\", precision_score(df[\"gt\"],df[modelName],average='weighted'))\n",
    "    print(\"Recall\", recall_score(df[\"gt\"],df[modelName],average='weighted'))"
   ]
  },
  {
   "cell_type": "code",
   "execution_count": 31,
   "metadata": {},
   "outputs": [],
   "source": [
    "##Now we repeat with test dataset\n",
    "avila_test =  pd.read_csv('./input/test_dataset.csv')"
   ]
  },
  {
   "cell_type": "code",
   "execution_count": 32,
   "metadata": {},
   "outputs": [],
   "source": [
    "X = avila_test[[\"F1\",\"F2\",\"F3\",\"F4\",\"F5\",\"F6\",\"F7\",\"F8\",\"F9\",\"F10\"]]"
   ]
  },
  {
   "cell_type": "code",
   "execution_count": 33,
   "metadata": {},
   "outputs": [
    {
     "name": "stdout",
     "output_type": "stream",
     "text": [
      "{'svm': array(['Marcus', 'Marcus', 'Begonius', ..., 'Marcus', 'Marcus', 'Marcus'],\n",
      "      dtype=object), 'logistic': array(['Franciscus', 'Philippus', 'Noaelius', ..., 'Marcus', 'Marcus',\n",
      "       'Marcus'], dtype=object), 'forest': array(['Franciscus', 'Ubuntius', 'Noaelius', ..., 'Marcus', 'Philippus',\n",
      "       'Franciscus'], dtype=object)}\n"
     ]
    },
    {
     "data": {
      "text/html": [
       "<div>\n",
       "<style scoped>\n",
       "    .dataframe tbody tr th:only-of-type {\n",
       "        vertical-align: middle;\n",
       "    }\n",
       "\n",
       "    .dataframe tbody tr th {\n",
       "        vertical-align: top;\n",
       "    }\n",
       "\n",
       "    .dataframe thead th {\n",
       "        text-align: right;\n",
       "    }\n",
       "</style>\n",
       "<table border=\"1\" class=\"dataframe\">\n",
       "  <thead>\n",
       "    <tr style=\"text-align: right;\">\n",
       "      <th></th>\n",
       "      <th>scribe</th>\n",
       "    </tr>\n",
       "  </thead>\n",
       "  <tbody>\n",
       "    <tr>\n",
       "      <th>0</th>\n",
       "      <td>Franciscus</td>\n",
       "    </tr>\n",
       "    <tr>\n",
       "      <th>1</th>\n",
       "      <td>Ubuntius</td>\n",
       "    </tr>\n",
       "    <tr>\n",
       "      <th>2</th>\n",
       "      <td>Noaelius</td>\n",
       "    </tr>\n",
       "    <tr>\n",
       "      <th>3</th>\n",
       "      <td>Marcus</td>\n",
       "    </tr>\n",
       "    <tr>\n",
       "      <th>4</th>\n",
       "      <td>Marcus</td>\n",
       "    </tr>\n",
       "    <tr>\n",
       "      <th>...</th>\n",
       "      <td>...</td>\n",
       "    </tr>\n",
       "    <tr>\n",
       "      <th>8007</th>\n",
       "      <td>Paithonius</td>\n",
       "    </tr>\n",
       "    <tr>\n",
       "      <th>8008</th>\n",
       "      <td>Marcus</td>\n",
       "    </tr>\n",
       "    <tr>\n",
       "      <th>8009</th>\n",
       "      <td>Marcus</td>\n",
       "    </tr>\n",
       "    <tr>\n",
       "      <th>8010</th>\n",
       "      <td>Philippus</td>\n",
       "    </tr>\n",
       "    <tr>\n",
       "      <th>8011</th>\n",
       "      <td>Franciscus</td>\n",
       "    </tr>\n",
       "  </tbody>\n",
       "</table>\n",
       "<p>8012 rows × 1 columns</p>\n",
       "</div>"
      ],
      "text/plain": [
       "          scribe\n",
       "0     Franciscus\n",
       "1       Ubuntius\n",
       "2       Noaelius\n",
       "3         Marcus\n",
       "4         Marcus\n",
       "...          ...\n",
       "8007  Paithonius\n",
       "8008      Marcus\n",
       "8009      Marcus\n",
       "8010   Philippus\n",
       "8011  Franciscus\n",
       "\n",
       "[8012 rows x 1 columns]"
      ]
     },
     "execution_count": 33,
     "metadata": {},
     "output_type": "execute_result"
    }
   ],
   "source": [
    "d = {modelName:model.predict(X) for modelName, model in models.items()}\n",
    "print(d)\n",
    "\n",
    "df = pd.DataFrame(d)\n",
    "df.drop(columns=['svm', 'logistic'], inplace=True)\n",
    "df.rename(columns={\"forest\": \"scribe\"}, inplace=True)\n",
    "df"
   ]
  },
  {
   "cell_type": "code",
   "execution_count": 34,
   "metadata": {},
   "outputs": [],
   "source": [
    "df.to_csv('./output/submission.csv')"
   ]
  },
  {
   "cell_type": "code",
   "execution_count": null,
   "metadata": {},
   "outputs": [],
   "source": []
  }
 ],
 "metadata": {
  "kernelspec": {
   "display_name": "Python 3",
   "language": "python",
   "name": "python3"
  },
  "language_info": {
   "codemirror_mode": {
    "name": "ipython",
    "version": 3
   },
   "file_extension": ".py",
   "mimetype": "text/x-python",
   "name": "python",
   "nbconvert_exporter": "python",
   "pygments_lexer": "ipython3",
   "version": "3.6.8"
  }
 },
 "nbformat": 4,
 "nbformat_minor": 2
}
